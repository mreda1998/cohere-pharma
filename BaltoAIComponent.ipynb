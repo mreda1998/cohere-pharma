{
  "nbformat": 4,
  "nbformat_minor": 0,
  "metadata": {
    "colab": {
      "provenance": [],
      "authorship_tag": "ABX9TyPQMU/Aat0iaWfDg6Yo0PL5",
      "include_colab_link": true
    },
    "kernelspec": {
      "name": "python3",
      "display_name": "Python 3"
    },
    "language_info": {
      "name": "python"
    }
  },
  "cells": [
    {
      "cell_type": "markdown",
      "metadata": {
        "id": "view-in-github",
        "colab_type": "text"
      },
      "source": [
        "<a href=\"https://colab.research.google.com/github/mreda1998/cohere-pharma/blob/main/BaltoAIComponent.ipynb\" target=\"_parent\"><img src=\"https://colab.research.google.com/assets/colab-badge.svg\" alt=\"Open In Colab\"/></a>"
      ]
    },
    {
      "cell_type": "markdown",
      "source": [
        "**Using cohere for balto (your personal pharmacist assistant)**"
      ],
      "metadata": {
        "id": "UrCWJ7aVROhU"
      }
    },
    {
      "cell_type": "markdown",
      "source": [
        "\n",
        "\n",
        "1.  Answering questions about over the counter drugs\n",
        "\n",
        "2.  Using sources and article recommandation\n",
        "\n",
        "3.  Article summarization\n",
        "\n"
      ],
      "metadata": {
        "id": "TN5rDdmCT4HV"
      }
    },
    {
      "cell_type": "code",
      "source": [
        "# Let's first install Cohere's\n",
        "!pip install cohere\n"
      ],
      "metadata": {
        "colab": {
          "base_uri": "https://localhost:8080/"
        },
        "id": "wDl3_laBUkeE",
        "outputId": "d351888b-499c-43ab-9c1a-cf6638fac62a"
      },
      "execution_count": null,
      "outputs": [
        {
          "output_type": "stream",
          "name": "stdout",
          "text": [
            "Collecting cohere\n",
            "  Downloading cohere-4.32-py3-none-any.whl (47 kB)\n",
            "\u001b[2K     \u001b[90m━━━━━━━━━━━━━━━━━━━━━━━━━━━━━━━━━━━━━━━━\u001b[0m \u001b[32m48.0/48.0 kB\u001b[0m \u001b[31m1.5 MB/s\u001b[0m eta \u001b[36m0:00:00\u001b[0m\n",
            "\u001b[?25hRequirement already satisfied: aiohttp<4.0,>=3.0 in /usr/local/lib/python3.10/dist-packages (from cohere) (3.8.6)\n",
            "Collecting backoff<3.0,>=2.0 (from cohere)\n",
            "  Downloading backoff-2.2.1-py3-none-any.whl (15 kB)\n",
            "Collecting fastavro==1.8.2 (from cohere)\n",
            "  Downloading fastavro-1.8.2-cp310-cp310-manylinux_2_17_x86_64.manylinux2014_x86_64.whl (2.7 MB)\n",
            "\u001b[2K     \u001b[90m━━━━━━━━━━━━━━━━━━━━━━━━━━━━━━━━━━━━━━━━\u001b[0m \u001b[32m2.7/2.7 MB\u001b[0m \u001b[31m21.8 MB/s\u001b[0m eta \u001b[36m0:00:00\u001b[0m\n",
            "\u001b[?25hRequirement already satisfied: importlib_metadata<7.0,>=6.0 in /usr/local/lib/python3.10/dist-packages (from cohere) (6.8.0)\n",
            "Requirement already satisfied: requests<3.0.0,>=2.25.0 in /usr/local/lib/python3.10/dist-packages (from cohere) (2.31.0)\n",
            "Requirement already satisfied: urllib3<3,>=1.26 in /usr/local/lib/python3.10/dist-packages (from cohere) (2.0.7)\n",
            "Requirement already satisfied: attrs>=17.3.0 in /usr/local/lib/python3.10/dist-packages (from aiohttp<4.0,>=3.0->cohere) (23.1.0)\n",
            "Requirement already satisfied: charset-normalizer<4.0,>=2.0 in /usr/local/lib/python3.10/dist-packages (from aiohttp<4.0,>=3.0->cohere) (3.3.1)\n",
            "Requirement already satisfied: multidict<7.0,>=4.5 in /usr/local/lib/python3.10/dist-packages (from aiohttp<4.0,>=3.0->cohere) (6.0.4)\n",
            "Requirement already satisfied: async-timeout<5.0,>=4.0.0a3 in /usr/local/lib/python3.10/dist-packages (from aiohttp<4.0,>=3.0->cohere) (4.0.3)\n",
            "Requirement already satisfied: yarl<2.0,>=1.0 in /usr/local/lib/python3.10/dist-packages (from aiohttp<4.0,>=3.0->cohere) (1.9.2)\n",
            "Requirement already satisfied: frozenlist>=1.1.1 in /usr/local/lib/python3.10/dist-packages (from aiohttp<4.0,>=3.0->cohere) (1.4.0)\n",
            "Requirement already satisfied: aiosignal>=1.1.2 in /usr/local/lib/python3.10/dist-packages (from aiohttp<4.0,>=3.0->cohere) (1.3.1)\n",
            "Requirement already satisfied: zipp>=0.5 in /usr/local/lib/python3.10/dist-packages (from importlib_metadata<7.0,>=6.0->cohere) (3.17.0)\n",
            "Requirement already satisfied: idna<4,>=2.5 in /usr/local/lib/python3.10/dist-packages (from requests<3.0.0,>=2.25.0->cohere) (3.4)\n",
            "Requirement already satisfied: certifi>=2017.4.17 in /usr/local/lib/python3.10/dist-packages (from requests<3.0.0,>=2.25.0->cohere) (2023.7.22)\n",
            "Installing collected packages: fastavro, backoff, cohere\n",
            "\u001b[31mERROR: pip's dependency resolver does not currently take into account all the packages that are installed. This behaviour is the source of the following dependency conflicts.\n",
            "llmx 0.0.15a0 requires openai, which is not installed.\n",
            "llmx 0.0.15a0 requires tiktoken, which is not installed.\u001b[0m\u001b[31m\n",
            "\u001b[0mSuccessfully installed backoff-2.2.1 cohere-4.32 fastavro-1.8.2\n"
          ]
        }
      ]
    },
    {
      "cell_type": "code",
      "source": [
        "import cohere\n",
        "import time\n",
        "import pandas as pd\n",
        "\n",
        "\n",
        "api_key = ''\n",
        "co = cohere.Client(api_key)"
      ],
      "metadata": {
        "id": "6JgKz3QbhCE9"
      },
      "execution_count": null,
      "outputs": []
    },
    {
      "cell_type": "markdown",
      "source": [
        "Extracting an article about a possible question from patients"
      ],
      "metadata": {
        "id": "yg40dO6IiISp"
      }
    },
    {
      "cell_type": "code",
      "source": [
        "import bs4 as BeautifulSoup\n",
        "import urllib.request\n",
        "\n",
        "# Fetching the content from the URL\n",
        "fetched_data = urllib.request.urlopen('https://fr.wikipedia.org/wiki/Parac%C3%A9tamol')\n",
        "\n",
        "article_read = fetched_data.read()\n",
        "\n",
        "# Parsing the URL content and storing in a variable\n",
        "article_parsed = BeautifulSoup.BeautifulSoup(article_read,'html.parser')\n",
        "\n",
        "# Returning <p> tags\n",
        "paragraphs = article_parsed.find_all('p')\n",
        "\n",
        "article_content = ''\n",
        "\n",
        "# Looping through the paragraphs and adding them to the variable\n",
        "for p in paragraphs:\n",
        "    article_content += p.text\n"
      ],
      "metadata": {
        "id": "zPfzav0hiGPh"
      },
      "execution_count": null,
      "outputs": []
    },
    {
      "cell_type": "code",
      "source": [
        "response = co.summarize(\n",
        "  text=article_content,\n",
        "  length='long',\n",
        "  format='paragraph',\n",
        "  model='summarize-xlarge',\n",
        "  additional_command='',\n",
        "  temperature=0.3,\n",
        ")\n",
        "print('Summary:', response.summary)"
      ],
      "metadata": {
        "colab": {
          "base_uri": "https://localhost:8080/"
        },
        "id": "EjyXJgvGiZeD",
        "outputId": "ef7b8db3-85b6-4378-cf05-345c2ada403d"
      },
      "execution_count": null,
      "outputs": [
        {
          "output_type": "stream",
          "name": "stdout",
          "text": [
            "Summary: Paracetamol, also known as acetaminophen, is a common painkiller and antipyretic, used all over the world. It is very hepatotoxic in cases of overdose or harmful drug interactions and may cause death from fulminant hepatitis. Its antidote is more effective if administered within eight hours of ingestion. If the degree of toxicity is uncertain, N-acetylcysteine must be administered until intoxication is excluded. In countries using the common name, paracetamol is used; in France, it is also known as acetaminophen. Its toxicity for the liver was demonstrated, resulting in its withdrawal from the market. Interest in paracetamol was renewed due to its apparent good tolerance, and it is now used in many combination drugs.\n"
          ]
        }
      ]
    },
    {
      "cell_type": "markdown",
      "source": [
        "**Using the cohere chat to simulate a virtual assistant **\n",
        "\n"
      ],
      "metadata": {
        "id": "X7raHJwti4ju"
      }
    },
    {
      "cell_type": "code",
      "source": [
        "response = co.chat(message=\"Hello\",\n",
        "                   preamble_override=\"You are an expert in over the counter drugs, what can you tell me about tylenol ?\")\n",
        "print(response.text)"
      ],
      "metadata": {
        "colab": {
          "base_uri": "https://localhost:8080/"
        },
        "id": "ycGCvqDMie8B",
        "outputId": "3bdad499-1bd0-493f-a86b-9b53a0b187f0"
      },
      "execution_count": null,
      "outputs": [
        {
          "output_type": "stream",
          "name": "stdout",
          "text": [
            "Hello! Tylenol is a brand of over-the-counter medication offered by the American company Johnson & Johnson. It consists of acetaminophen, a medicine used to treat pain and fever. It is a popular and safe choice when taken as directed, although overdose may result in severe liver damage.\n"
          ]
        }
      ]
    },
    {
      "cell_type": "code",
      "source": [
        "response = co.chat(message=\"Hello\",\n",
        "                   preamble_override=\"Can you provide scientific articles about tylenol?\")\n",
        "print(response.text)"
      ],
      "metadata": {
        "colab": {
          "base_uri": "https://localhost:8080/"
        },
        "id": "OQsj_DWEjOFt",
        "outputId": "0bdbc702-7f3a-4cae-8d99-efee9bf476dc"
      },
      "execution_count": null,
      "outputs": [
        {
          "output_type": "stream",
          "name": "stdout",
          "text": [
            "Hi! I'm happy to help you find scientific articles about Tylenol.\n",
            "\n",
            "There have been many studies and research articles published about Tylenol, also known as acetaminophen. Some of these studies have looked at the effectiveness of Tylenol for treating pain and fever, while others have focused on the safety of the drug.\n",
            "\n",
            "Here are a few examples of scientific articles about Tylenol:\n",
            "\n",
            "1. \"Efficacy and safety of acetaminophen for acute pain: a meta-analysis of randomized controlled trials\" (2010) - This study found that Tylenol was effective for treating acute pain, but that the effectiveness of the drug varied depending on the dosage and length of treatment.\n",
            "\n",
            "2. \"Acetaminophen for the treatment of chronic pain: a review of the evidence\" (2014) - This article concluded that Tylenol was generally safe and effective for treating chronic pain, but that it may not be as effective as other pain relief options.\n",
            "\n",
            "3. \"Acetaminophen overdose: a review of the literature\" (2018) - This study looked at the prevalence and causes of Tylenol overdose, and found that the drug was generally safe when used as directed but could be harmful in large doses.\n",
            "\n",
            "These are just a few examples of the many scientific articles that have been published about Tylenol. It's important to note that the drug has been well-studied and that the safety and effectiveness of Tylenol have been well-documented.\n",
            "\n",
            "I hope this information is helpful to you. If you have any further questions or would like to learn more about Tylenol, please let me know.\n"
          ]
        }
      ]
    }
  ]
}